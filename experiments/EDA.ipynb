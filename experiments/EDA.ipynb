{
 "cells": [
  {
   "cell_type": "markdown",
   "id": "92f63e1e-ffc3-45ed-a04f-462b80c56cad",
   "metadata": {},
   "source": [
    "# EEG Imaginary data classification"
   ]
  },
  {
   "cell_type": "markdown",
   "id": "75870868-1b67-43fd-9ce0-ca743fe2f1f4",
   "metadata": {},
   "source": [
    "EDA of EEG data classification with deep neural networks.\n",
    "\n",
    "Dataset source: https://physionet.org/content/eegmmidb/1.0.0/"
   ]
  },
  {
   "cell_type": "markdown",
   "id": "3374e6d7-7626-4603-95e5-4e282f7f6e4a",
   "metadata": {},
   "source": [
    "In order to get the dataset, we will use wget to download dataset to current directory"
   ]
  },
  {
   "cell_type": "code",
   "execution_count": null,
   "id": "7970946c-d7dc-42a4-ae53-889b5553e607",
   "metadata": {},
   "outputs": [],
   "source": [
    "!wget -r -N -c -np https://physionet.org/files/eegmmidb/1.0.0/"
   ]
  },
  {
   "cell_type": "markdown",
   "id": "33106f21-9cd6-404c-87f0-c0605a544c73",
   "metadata": {},
   "source": [
    "This will create a folder named `physionet.org` folder with all the eeg data in it.\n",
    "Lets see the folder stracture with `tree` command"
   ]
  },
  {
   "cell_type": "code",
   "execution_count": 3,
   "id": "f7b623d2-c074-488e-ba1d-228e05b95735",
   "metadata": {},
   "outputs": [
    {
     "name": "stdout",
     "output_type": "stream",
     "text": [
      "Reading package lists... Done\n",
      "Building dependency tree       \n",
      "Reading state information... Done\n",
      "E: Unable to locate package tree\n"
     ]
    }
   ],
   "source": [
    "!apt-get install tree"
   ]
  },
  {
   "cell_type": "code",
   "execution_count": 25,
   "id": "96210b22-861a-4198-abbe-d5f0c79ad2b6",
   "metadata": {},
   "outputs": [
    {
     "name": "stdout",
     "output_type": "stream",
     "text": [
      "physionet.org/\n",
      "├── files\n",
      "│   └── eegmmidb\n",
      "│       └── 1.0.0\n",
      "│           ├── 64_channel_sharbrough-old.png\n",
      "│           ├── 64_channel_sharbrough.pdf\n",
      "│           ├── 64_channel_sharbrough.png\n",
      "│           ├── ANNOTATORS\n",
      "│           ├── RECORDS\n",
      "│           ├── S001\n",
      "│           │   ├── S001R01.edf\n",
      "│           │   ├── S001R01.edf.event\n",
      "│           │   ├── S001R02.edf\n",
      "│           │   ├── S001R02.edf.event\n",
      "│           │   ├── S001R03.edf\n",
      "│           │   ├── S001R03.edf.event\n",
      "│           │   ├── S001R04.edf\n",
      "│           │   ├── S001R04.edf.event\n",
      "│           │   ├── S001R05.edf\n",
      "│           │   ├── S001R05.edf.event\n",
      "│           │   ├── S001R06.edf\n",
      "│           │   ├── S001R06.edf.event\n",
      "│           │   ├── S001R07.edf\n",
      "│           │   ├── S001R07.edf.event\n",
      "│           │   ├── S001R08.edf\n",
      "│           │   ├── S001R08.edf.event\n",
      "│           │   ├── S001R09.edf\n",
      "│           │   ├── S001R09.edf.event\n",
      "│           │   ├── S001R10.edf\n",
      "│           │   ├── S001R10.edf.event\n",
      "│           │   ├── S001R11.edf\n",
      "│           │   ├── S001R11.edf.event\n",
      "│           │   ├── S001R12.edf\n",
      "│           │   ├── S001R12.edf.event\n",
      "│           │   ├── S001R13.edf\n",
      "│           │   ├── S001R13.edf.event\n",
      "│           │   ├── S001R14.edf\n",
      "│           │   ├── S001R14.edf.event\n",
      "│           │   └── index.html\n",
      "│           ├── S002\n"
     ]
    }
   ],
   "source": [
    "!sudo tree physionet.org/ --filelimit=400 -L 20 | head -n 40"
   ]
  },
  {
   "cell_type": "markdown",
   "id": "703f6d63-7afa-41cf-bfcd-ad1ed971b3ae",
   "metadata": {},
   "source": [
    "The files are in `edf` format, so we will need `pyedflib` library to open data."
   ]
  },
  {
   "cell_type": "code",
   "execution_count": 26,
   "id": "22d28f17-b06b-4094-92c4-29bb33bed983",
   "metadata": {},
   "outputs": [
    {
     "name": "stdout",
     "output_type": "stream",
     "text": [
      "Collecting pyedflib\n",
      "  Downloading pyEDFlib-0.1.30-cp39-cp39-manylinux_2_17_x86_64.manylinux2014_x86_64.whl (2.4 MB)\n",
      "\u001b[2K     \u001b[90m━━━━━━━━━━━━━━━━━━━━━━━━━━━━━━━━━━━━━━━━\u001b[0m \u001b[32m2.4/2.4 MB\u001b[0m \u001b[31m44.0 MB/s\u001b[0m eta \u001b[36m0:00:00\u001b[0ma \u001b[36m0:00:01\u001b[0m\n",
      "\u001b[?25hRequirement already satisfied: numpy>=1.9.1 in /usr/local/lib/python3.9/dist-packages (from pyedflib) (1.23.1)\n",
      "Installing collected packages: pyedflib\n",
      "Successfully installed pyedflib-0.1.30\n",
      "\u001b[33mWARNING: Running pip as the 'root' user can result in broken permissions and conflicting behaviour with the system package manager. It is recommended to use a virtual environment instead: https://pip.pypa.io/warnings/venv\u001b[0m\u001b[33m\n",
      "\u001b[0m"
     ]
    }
   ],
   "source": [
    "!pip install pyedflib"
   ]
  },
  {
   "cell_type": "code",
   "execution_count": 48,
   "id": "f1441852-de3f-46fc-a15e-23e024729bd5",
   "metadata": {},
   "outputs": [],
   "source": [
    "import pyedflib\n",
    "import numpy as np\n",
    "file = \"physionet.org/files/eegmmidb/1.0.0/S001/S001R05.edf\"\n",
    "with pyedflib.EdfReader(file) as f:\n",
    "# annotations = file.readAnnotations()  \n",
    "    n = f.signals_in_file\n",
    "    signal_labels = f.getSignalLabels()\n",
    "    sigbufs = np.zeros((n, f.getNSamples()[0]))\n",
    "    for i in np.arange(n):\n",
    "            sigbufs[i, :] = f.readSignal(i)\n",
    "    annotations = f.readAnnotations()\n"
   ]
  },
  {
   "cell_type": "code",
   "execution_count": 42,
   "id": "fd2be797-2579-43ae-9648-4a84a46ec47a",
   "metadata": {},
   "outputs": [
    {
     "name": "stdout",
     "output_type": "stream",
     "text": [
      "Length of labels 64\n",
      "First 10 labels ['Fc5.', 'Fc3.', 'Fc1.', 'Fcz.', 'Fc2.', 'Fc4.', 'Fc6.', 'C5..', 'C3..', 'C1..']\n"
     ]
    }
   ],
   "source": [
    "print('Length of labels', len(signal_labels))\n",
    "print('First 10 labels', signal_labels[:10])"
   ]
  },
  {
   "cell_type": "markdown",
   "id": "87851cd5-b1af-4a09-a28b-db1a388c5233",
   "metadata": {},
   "source": [
    "![Img](https://physionet.org/files/eegmmidb/1.0.0/64_channel_sharbrough.png)"
   ]
  },
  {
   "cell_type": "markdown",
   "id": "79426f7b-a17b-41d2-afa2-cdfa4bd7b7bc",
   "metadata": {},
   "source": [
    "As we see we have 64 labels, which are the channels "
   ]
  },
  {
   "cell_type": "markdown",
   "id": "3023502c-0787-4382-8cb8-d6c16dddb37c",
   "metadata": {},
   "source": [
    "Here are the annotations which are 3 arrays, \n",
    "- the first array is the time in seconds when the signal was captured\n",
    "- the second array is the interval between that current and prevoius signal\n",
    "- the thirs array is the events happened for each signal interval"
   ]
  },
  {
   "cell_type": "code",
   "execution_count": 58,
   "id": "dfc0da71-828c-41fb-8307-c537f37cc8e5",
   "metadata": {},
   "outputs": [
    {
     "data": {
      "text/plain": [
       "(array([  0. ,   4.2,   8.3,  12.5,  16.6,  20.8,  24.9,  29.1,  33.2,\n",
       "         37.4,  41.5,  45.7,  49.8,  54. ,  58.1,  62.3,  66.4,  70.6,\n",
       "         74.7,  78.9,  83. ,  87.2,  91.3,  95.5,  99.6, 103.8, 107.9,\n",
       "        112.1, 116.2, 120.4]),\n",
       " array([4.2, 4.1, 4.2, 4.1, 4.2, 4.1, 4.2, 4.1, 4.2, 4.1, 4.2, 4.1, 4.2,\n",
       "        4.1, 4.2, 4.1, 4.2, 4.1, 4.2, 4.1, 4.2, 4.1, 4.2, 4.1, 4.2, 4.1,\n",
       "        4.2, 4.1, 4.2, 4.1]),\n",
       " array(['T0', 'T2', 'T0', 'T1', 'T0', 'T2', 'T0', 'T1', 'T0', 'T2', 'T0',\n",
       "        'T1', 'T0', 'T1', 'T0', 'T2', 'T0', 'T2', 'T0', 'T1', 'T0', 'T2',\n",
       "        'T0', 'T1', 'T0', 'T1', 'T0', 'T2', 'T0', 'T1'], dtype='<U2'))"
      ]
     },
     "execution_count": 58,
     "metadata": {},
     "output_type": "execute_result"
    }
   ],
   "source": [
    "annotations"
   ]
  },
  {
   "cell_type": "code",
   "execution_count": 51,
   "id": "29032c39-5310-4f47-93cd-c5ca056d8b75",
   "metadata": {},
   "outputs": [
    {
     "data": {
      "text/plain": [
       "(64, 20000)"
      ]
     },
     "execution_count": 51,
     "metadata": {},
     "output_type": "execute_result"
    }
   ],
   "source": [
    "sigbufs.shape"
   ]
  },
  {
   "cell_type": "markdown",
   "id": "179e31d0-c504-4d0b-825c-1eb4a46a2d3f",
   "metadata": {},
   "source": [
    "And the signal consisiting of 64 channels and about 120 seconds of experiments, each signal has sampling rate of 160 Hz, so the length of the signal is 124*160 which is close to 20000"
   ]
  },
  {
   "cell_type": "markdown",
   "id": "8e47c816-d856-4e05-bee5-1d91258b0474",
   "metadata": {},
   "source": [
    "In the scopes of this project we will be focusing on this channels of data"
   ]
  },
  {
   "cell_type": "markdown",
   "id": "5ff6ebc3-17bb-45ca-8af6-69c7fdd2b108",
   "metadata": {},
   "source": [
    "![Img](eda_signals.png)"
   ]
  },
  {
   "cell_type": "code",
   "execution_count": 103,
   "id": "b64e9778-f633-476a-9d1a-265f4a7b482d",
   "metadata": {},
   "outputs": [
    {
     "data": {
      "text/plain": [
       "[['Fc1.', 'Fc2.'],\n",
       " ['Fc3.', 'Fc4.'],\n",
       " ['Fc5.', 'Fc6.'],\n",
       " ['C5.', 'C6.'],\n",
       " ['C3.', 'C4.'],\n",
       " ['C1.', 'C2.'],\n",
       " ['Cp1.', 'Cp2.'],\n",
       " ['Cp3.', 'Cp4.'],\n",
       " ['Cp5.', 'Cp6.']]"
      ]
     },
     "execution_count": 103,
     "metadata": {},
     "output_type": "execute_result"
    }
   ],
   "source": [
    "channels = [[\"Fc1.\", \"Fc2.\"],\n",
    "            [\"Fc3.\", \"Fc4.\"],\n",
    "            [\"Fc5.\", \"Fc6.\"],\n",
    "            [\"C5.\", \"C6.\"],\n",
    "            [\"C3.\", \"C4.\"],\n",
    "            [\"C1.\", \"C2.\"],\n",
    "            [\"Cp1.\", \"Cp2.\"],\n",
    "            [\"Cp3.\", \"Cp4.\"],\n",
    "            [\"Cp5.\", \"Cp6.\"]]\n",
    "channels"
   ]
  },
  {
   "cell_type": "markdown",
   "id": "0846bd59-b928-439b-8182-0045275366a5",
   "metadata": {},
   "source": [
    "Lets take the `FC1` channel end explore it"
   ]
  },
  {
   "cell_type": "code",
   "execution_count": 62,
   "id": "f09eb442-da48-4023-8c5e-f4430ec36892",
   "metadata": {},
   "outputs": [
    {
     "data": {
      "text/plain": [
       "(20000,)"
      ]
     },
     "execution_count": 62,
     "metadata": {},
     "output_type": "execute_result"
    }
   ],
   "source": [
    "fc1_idx = signal_labels.index('Fc1.')\n",
    "fc1 = sigbufs[fc1_idx]\n",
    "fc1.shape"
   ]
  },
  {
   "cell_type": "code",
   "execution_count": 115,
   "id": "ce1db631-0076-45d2-a2c5-d7ec78711828",
   "metadata": {},
   "outputs": [],
   "source": [
    "import matplotlib.pyplot as plt"
   ]
  },
  {
   "cell_type": "code",
   "execution_count": 116,
   "id": "c0ee3d22-45aa-4729-8587-9d82200f17fe",
   "metadata": {},
   "outputs": [
    {
     "data": {
      "text/plain": [
       "[<matplotlib.lines.Line2D at 0x7f1f0e39ea60>]"
      ]
     },
     "execution_count": 116,
     "metadata": {},
     "output_type": "execute_result"
    },
    {
     "data": {
      "image/png": "[encoded data removed]",
      "text/plain": [
       "<Figure size 432x288 with 1 Axes>"
      ]
     },
     "metadata": {
      "needs_background": "light"
     },
     "output_type": "display_data"
    }
   ],
   "source": [
    "plt.plot(fc1)"
   ]
  },
  {
   "cell_type": "markdown",
   "id": "d7f73735-1055-44f6-8861-1b55042fee68",
   "metadata": {},
   "source": [
    "Lets look at the signal in frequency domain"
   ]
  },
  {
   "cell_type": "code",
   "execution_count": 71,
   "id": "f09cf720-761f-415e-9c45-570a36417b69",
   "metadata": {
    "collapsed": true,
    "jupyter": {
     "outputs_hidden": true
    },
    "tags": []
   },
   "outputs": [
    {
     "name": "stdout",
     "output_type": "stream",
     "text": [
      "Collecting librosa\n",
      "  Downloading librosa-0.9.2-py3-none-any.whl (214 kB)\n",
      "\u001b[2K     \u001b[90m━━━━━━━━━━━━━━━━━━━━━━━━━━━━━━━━━━━━━━\u001b[0m \u001b[32m214.3/214.3 kB\u001b[0m \u001b[31m27.8 MB/s\u001b[0m eta \u001b[36m0:00:00\u001b[0m\n",
      "\u001b[?25hCollecting audioread>=2.1.9\n",
      "  Downloading audioread-3.0.0.tar.gz (377 kB)\n",
      "\u001b[2K     \u001b[90m━━━━━━━━━━━━━━━━━━━━━━━━━━━━━━━━━━━━━━\u001b[0m \u001b[32m377.0/377.0 kB\u001b[0m \u001b[31m67.8 MB/s\u001b[0m eta \u001b[36m0:00:00\u001b[0m\n",
      "\u001b[?25h  Preparing metadata (setup.py) ... \u001b[?25ldone\n",
      "\u001b[?25hCollecting soundfile>=0.10.2\n",
      "  Downloading soundfile-0.11.0-py2.py3-none-any.whl (23 kB)\n",
      "Requirement already satisfied: scipy>=1.2.0 in /usr/local/lib/python3.9/dist-packages (from librosa) (1.8.1)\n",
      "Requirement already satisfied: joblib>=0.14 in /usr/local/lib/python3.9/dist-packages (from librosa) (1.1.0)\n",
      "Requirement already satisfied: decorator>=4.0.10 in /usr/local/lib/python3.9/dist-packages (from librosa) (5.1.1)\n",
      "Collecting pooch>=1.0\n",
      "  Downloading pooch-1.6.0-py3-none-any.whl (56 kB)\n",
      "\u001b[2K     \u001b[90m━━━━━━━━━━━━━━━━━━━━━━━━━━━━━━━━━━━━━━━━\u001b[0m \u001b[32m56.3/56.3 kB\u001b[0m \u001b[31m23.3 MB/s\u001b[0m eta \u001b[36m0:00:00\u001b[0m\n",
      "\u001b[?25hRequirement already satisfied: packaging>=20.0 in /usr/local/lib/python3.9/dist-packages (from librosa) (21.3)\n",
      "Collecting resampy>=0.2.2\n",
      "  Downloading resampy-0.4.2-py3-none-any.whl (3.1 MB)\n",
      "\u001b[2K     \u001b[90m━━━━━━━━━━━━━━━━━━━━━━━━━━━━━━━━━━━━━━━━\u001b[0m \u001b[32m3.1/3.1 MB\u001b[0m \u001b[31m109.5 MB/s\u001b[0m eta \u001b[36m0:00:00\u001b[0m\n",
      "\u001b[?25hRequirement already satisfied: scikit-learn>=0.19.1 in /usr/local/lib/python3.9/dist-packages (from librosa) (1.1.1)\n",
      "Collecting numba>=0.45.1\n",
      "  Downloading numba-0.56.4-cp39-cp39-manylinux2014_x86_64.manylinux_2_17_x86_64.whl (3.5 MB)\n",
      "\u001b[2K     \u001b[90m━━━━━━━━━━━━━━━━━━━━━━━━━━━━━━━━━━━━━━━━\u001b[0m \u001b[32m3.5/3.5 MB\u001b[0m \u001b[31m122.2 MB/s\u001b[0m eta \u001b[36m0:00:00\u001b[0m\n",
      "\u001b[?25hRequirement already satisfied: numpy>=1.17.0 in /usr/local/lib/python3.9/dist-packages (from librosa) (1.23.1)\n",
      "Requirement already satisfied: setuptools in /usr/local/lib/python3.9/dist-packages (from numba>=0.45.1->librosa) (63.1.0)\n",
      "Collecting llvmlite<0.40,>=0.39.0dev0\n",
      "  Downloading llvmlite-0.39.1-cp39-cp39-manylinux_2_17_x86_64.manylinux2014_x86_64.whl (34.6 MB)\n",
      "\u001b[2K     \u001b[90m━━━━━━━━━━━━━━━━━━━━━━━━━━━━━━━━━━━━━━━━\u001b[0m \u001b[32m34.6/34.6 MB\u001b[0m \u001b[31m57.9 MB/s\u001b[0m eta \u001b[36m0:00:00\u001b[0m00:01\u001b[0m00:01\u001b[0m\n",
      "\u001b[?25hRequirement already satisfied: pyparsing!=3.0.5,>=2.0.2 in /usr/local/lib/python3.9/dist-packages (from packaging>=20.0->librosa) (3.0.9)\n",
      "Collecting appdirs>=1.3.0\n",
      "  Downloading appdirs-1.4.4-py2.py3-none-any.whl (9.6 kB)\n",
      "Requirement already satisfied: requests>=2.19.0 in /usr/local/lib/python3.9/dist-packages (from pooch>=1.0->librosa) (2.28.1)\n",
      "Requirement already satisfied: threadpoolctl>=2.0.0 in /usr/local/lib/python3.9/dist-packages (from scikit-learn>=0.19.1->librosa) (3.1.0)\n",
      "Requirement already satisfied: cffi>=1.0 in /usr/local/lib/python3.9/dist-packages (from soundfile>=0.10.2->librosa) (1.15.1)\n",
      "Requirement already satisfied: pycparser in /usr/local/lib/python3.9/dist-packages (from cffi>=1.0->soundfile>=0.10.2->librosa) (2.21)\n",
      "Requirement already satisfied: certifi>=2017.4.17 in /usr/lib/python3/dist-packages (from requests>=2.19.0->pooch>=1.0->librosa) (2019.11.28)\n",
      "Requirement already satisfied: idna<4,>=2.5 in /usr/lib/python3/dist-packages (from requests>=2.19.0->pooch>=1.0->librosa) (2.8)\n",
      "Requirement already satisfied: urllib3<1.27,>=1.21.1 in /usr/local/lib/python3.9/dist-packages (from requests>=2.19.0->pooch>=1.0->librosa) (1.26.10)\n",
      "Requirement already satisfied: charset-normalizer<3,>=2 in /usr/local/lib/python3.9/dist-packages (from requests>=2.19.0->pooch>=1.0->librosa) (2.1.0)\n",
      "Building wheels for collected packages: audioread\n",
      "  Building wheel for audioread (setup.py) ... \u001b[?25ldone\n",
      "\u001b[?25h  Created wheel for audioread: filename=audioread-3.0.0-py3-none-any.whl size=23702 sha256=860d7e7d0e42aff8ea6e8274df4312173c02083e88f70a647ed23b0d4e480fac\n",
      "  Stored in directory: /root/.cache/pip/wheels/e4/76/a4/cfb55573167a1f5bde7d7a348e95e509c64b2c3e8f921932c3\n",
      "Successfully built audioread\n",
      "Installing collected packages: appdirs, llvmlite, audioread, soundfile, pooch, numba, resampy, librosa\n",
      "Successfully installed appdirs-1.4.4 audioread-3.0.0 librosa-0.9.2 llvmlite-0.39.1 numba-0.56.4 pooch-1.6.0 resampy-0.4.2 soundfile-0.11.0\n",
      "\u001b[33mWARNING: Running pip as the 'root' user can result in broken permissions and conflicting behaviour with the system package manager. It is recommended to use a virtual environment instead: https://pip.pypa.io/warnings/venv\u001b[0m\u001b[33m\n",
      "\u001b[0m"
     ]
    }
   ],
   "source": [
    "!pip install librosa"
   ]
  },
  {
   "cell_type": "code",
   "execution_count": 114,
   "id": "6815adad-74a6-4d4b-8cb8-f00c9a9baeb8",
   "metadata": {},
   "outputs": [
    {
     "data": {
      "image/png": "[encoded data removed]",
      "text/plain": [
       "<Figure size 1080x720 with 2 Axes>"
      ]
     },
     "metadata": {
      "needs_background": "light"
     },
     "output_type": "display_data"
    }
   ],
   "source": [
    "import librosa\n",
    "\n",
    "sr = 160\n",
    "S = librosa.feature.melspectrogram(y=fc1, sr=sr)\n",
    "\n",
    "fig, ax = plt.subplots()\n",
    "\n",
    "S_dB = librosa.power_to_db(S, ref=np.max)\n",
    "\n",
    "img = librosa.display.specshow(S_dB, x_axis='time',\n",
    "\n",
    "                         y_axis='mel', sr=sr,\n",
    "\n",
    "                         fmax=8000, ax=ax)\n",
    "\n",
    "fig.colorbar(img, ax=ax, format='%+2.0f dB')\n",
    "fig.set_figwidth(15)\n",
    "fig.set_figheight(10)\n",
    "\n",
    "ax.set(title='Mel-frequency spectrogram');"
   ]
  },
  {
   "cell_type": "code",
   "execution_count": null,
   "id": "7a07ab53-6aeb-4e2a-8eab-901d8374461f",
   "metadata": {},
   "outputs": [],
   "source": []
  }
 ],
 "metadata": {
  "kernelspec": {
   "display_name": "Python 3 (ipykernel)",
   "language": "python",
   "name": "python3"
  },
  "language_info": {
   "codemirror_mode": {
    "name": "ipython",
    "version": 3
   },
   "file_extension": ".py",
   "mimetype": "text/x-python",
   "name": "python",
   "nbconvert_exporter": "python",
   "pygments_lexer": "ipython3",
   "version": "3.9.13"
  }
 },
 "nbformat": 4,
 "nbformat_minor": 5
}
